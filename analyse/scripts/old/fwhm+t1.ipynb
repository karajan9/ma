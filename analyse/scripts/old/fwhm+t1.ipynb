{
 "cells": [
  {
   "cell_type": "code",
   "execution_count": 4,
   "metadata": {},
   "outputs": [],
   "source": [
    "import numpy as np\n",
    "import matplotlib.pyplot as plt\n",
    "%matplotlib inline"
   ]
  },
  {
   "cell_type": "code",
   "execution_count": 5,
   "metadata": {},
   "outputs": [],
   "source": [
    "homedir = \"/home/karajan/uni/master/analyse/data/crn/data/\"\n",
    "fwhm_data = np.loadtxt(homedir + \"SPEK/spek_342K_380K.data\")\n",
    "t1_data = np.loadtxt(homedir + \"T1/t1_342K_380K.data\")\n",
    "temp_f = fwhm_data[:,1]\n",
    "gamma = fwhm_data[:,5]\n",
    "temp_t1 = t1_data[:,1]\n",
    "t1 = t1_data[:,3]"
   ]
  },
  {
   "cell_type": "code",
   "execution_count": 6,
   "metadata": {},
   "outputs": [
    {
     "data": {
      "text/plain": [
       "array([377.56, 373.73, 370.85, 367.97, 366.04, 364.12, 362.19, 360.25,\n",
       "       358.32, 355.46, 352.59, 349.72, 346.85, 343.99, 349.64, 346.85,\n",
       "       343.98, 341.12])"
      ]
     },
     "execution_count": 6,
     "metadata": {},
     "output_type": "execute_result"
    }
   ],
   "source": [
    "temp_f"
   ]
  },
  {
   "cell_type": "code",
   "execution_count": 7,
   "metadata": {},
   "outputs": [
    {
     "data": {
      "text/plain": [
       "array([377.56, 373.7 , 370.82, 367.94, 366.02, 364.11, 362.17, 360.24,\n",
       "       358.31, 355.43, 352.57, 349.7 , 346.82, 343.95, 349.46, 346.92,\n",
       "       344.09, 341.22])"
      ]
     },
     "execution_count": 7,
     "metadata": {},
     "output_type": "execute_result"
    }
   ],
   "source": [
    "temp_t1[1::2]"
   ]
  },
  {
   "cell_type": "code",
   "execution_count": 8,
   "metadata": {},
   "outputs": [
    {
     "data": {
      "text/plain": [
       "array([3.62055931e-05, 4.57386695e-05, 5.53099474e-05, 6.87356953e-05,\n",
       "       8.03768109e-05, 8.28968616e-05, 1.05118419e-04, 1.21537713e-04,\n",
       "       1.47880063e-04, 2.02648547e-04, 2.67778739e-04, 3.88188493e-04,\n",
       "       5.51794698e-04, 7.89837964e-04, 3.92575700e-04, 5.62798827e-04,\n",
       "       8.53399118e-04, 1.21999925e-03])"
      ]
     },
     "execution_count": 8,
     "metadata": {},
     "output_type": "execute_result"
    }
   ],
   "source": [
    "t1[1::2]"
   ]
  },
  {
   "cell_type": "code",
   "execution_count": 9,
   "metadata": {},
   "outputs": [
    {
     "data": {
      "text/plain": [
       "<matplotlib.collections.PathCollection at 0x7f8fa4236400>"
      ]
     },
     "execution_count": 9,
     "metadata": {},
     "output_type": "execute_result"
    },
    {
     "data": {
      "image/png": "[encoded data removed]",
      "text/plain": [
       "<Figure size 432x288 with 1 Axes>"
      ]
     },
     "metadata": {},
     "output_type": "display_data"
    }
   ],
   "source": [
    "plt.grid(True)\n",
    "plt.yscale(\"log\")\n",
    "plt.scatter(temp_t1[1::2], 1/t1[1::2])"
   ]
  },
  {
   "cell_type": "code",
   "execution_count": 10,
   "metadata": {},
   "outputs": [
    {
     "data": {
      "text/plain": [
       "<matplotlib.collections.PathCollection at 0x7f8fa412fb70>"
      ]
     },
     "execution_count": 10,
     "metadata": {},
     "output_type": "execute_result"
    },
    {
     "data": {
      "image/png": "[encoded data removed]",
      "text/plain": [
       "<Figure size 432x288 with 1 Axes>"
      ]
     },
     "metadata": {},
     "output_type": "display_data"
    }
   ],
   "source": [
    "plt.grid(True)\n",
    "plt.scatter(temp_f, gamma*2)\n",
    "plt.scatter(temp_f, (gamma-1/t1[1::2]/2/np.pi)*2)"
   ]
  },
  {
   "cell_type": "code",
   "execution_count": 11,
   "metadata": {},
   "outputs": [],
   "source": [
    "homedir = \"/home/karajan/uni/master/analyse/data/crn/data/\"\n",
    "fwhm_data2 = np.loadtxt(homedir + \"SPEK/spek_360K_440K.data\")\n",
    "t1_data2 = np.loadtxt(homedir + \"T1/t1_360K_440K_170807.data\")\n",
    "temp_f2 = fwhm_data2[:,1]\n",
    "gamma2 = fwhm_data2[:,5]\n",
    "temp_t12 = t1_data2[:,1]\n",
    "t12 = t1_data2[:,3]"
   ]
  },
  {
   "cell_type": "code",
   "execution_count": 12,
   "metadata": {},
   "outputs": [
    {
     "data": {
      "text/plain": [
       "array([435.43, 430.9 , 426.15, 421.36, 416.51, 411.7 , 406.88, 402.04,\n",
       "       397.23, 392.48, 387.69, 382.9 , 378.18, 373.27, 368.48, 363.66,\n",
       "       358.81])"
      ]
     },
     "execution_count": 12,
     "metadata": {},
     "output_type": "execute_result"
    }
   ],
   "source": [
    "temp_f2"
   ]
  },
  {
   "cell_type": "code",
   "execution_count": 13,
   "metadata": {},
   "outputs": [
    {
     "data": {
      "text/plain": [
       "array([434.63, 430.28, 425.53, 420.75, 415.92, 411.14, 401.48, 396.76,\n",
       "       392.  , 387.23, 382.43, 377.75, 377.49, 372.86, 368.07, 363.32,\n",
       "       358.47])"
      ]
     },
     "execution_count": 13,
     "metadata": {},
     "output_type": "execute_result"
    }
   ],
   "source": [
    "temp_t12"
   ]
  },
  {
   "cell_type": "code",
   "execution_count": 14,
   "metadata": {},
   "outputs": [
    {
     "data": {
      "text/plain": [
       "<matplotlib.collections.PathCollection at 0x7f8fa40366d8>"
      ]
     },
     "execution_count": 14,
     "metadata": {},
     "output_type": "execute_result"
    },
    {
     "data": {
      "image/png": "[encoded data removed]",
      "text/plain": [
       "<Figure size 432x288 with 1 Axes>"
      ]
     },
     "metadata": {},
     "output_type": "display_data"
    }
   ],
   "source": [
    "plt.grid(True)\n",
    "plt.scatter(temp_f2, gamma2 * 2)"
   ]
  },
  {
   "cell_type": "code",
   "execution_count": 15,
   "metadata": {},
   "outputs": [
    {
     "data": {
      "text/plain": [
       "<matplotlib.collections.PathCollection at 0x7f8fa3f9a6a0>"
      ]
     },
     "execution_count": 15,
     "metadata": {},
     "output_type": "execute_result"
    },
    {
     "data": {
      "image/png": "[encoded data removed]",
      "text/plain": [
       "<Figure size 432x288 with 1 Axes>"
      ]
     },
     "metadata": {},
     "output_type": "display_data"
    }
   ],
   "source": [
    "plt.grid(True)\n",
    "a = np.ma.array(t12, mask=True)\n",
    "a[3] = False\n",
    "plt.scatter(temp_f2[a.mask], 1/t12[a.mask])"
   ]
  },
  {
   "cell_type": "code",
   "execution_count": 16,
   "metadata": {},
   "outputs": [
    {
     "data": {
      "text/plain": [
       "array([ True,  True,  True, False,  True,  True,  True,  True,  True,\n",
       "        True,  True,  True,  True,  True,  True,  True,  True])"
      ]
     },
     "execution_count": 16,
     "metadata": {},
     "output_type": "execute_result"
    }
   ],
   "source": [
    "a.mask"
   ]
  },
  {
   "cell_type": "code",
   "execution_count": 17,
   "metadata": {},
   "outputs": [
    {
     "data": {
      "text/plain": [
       "<matplotlib.collections.PathCollection at 0x7f8fa3f75dd8>"
      ]
     },
     "execution_count": 17,
     "metadata": {},
     "output_type": "execute_result"
    },
    {
     "data": {
      "image/png": "[encoded data removed]",
      "text/plain": [
       "<Figure size 432x288 with 1 Axes>"
      ]
     },
     "metadata": {},
     "output_type": "display_data"
    }
   ],
   "source": [
    "plt.grid(True)\n",
    "plt.scatter(temp_f2[4:], 1/t12[4:])"
   ]
  },
  {
   "cell_type": "code",
   "execution_count": 18,
   "metadata": {},
   "outputs": [
    {
     "data": {
      "text/plain": [
       "<matplotlib.collections.PathCollection at 0x7f8fa3edc438>"
      ]
     },
     "execution_count": 18,
     "metadata": {},
     "output_type": "execute_result"
    },
    {
     "data": {
      "image/png": "[encoded data removed]",
      "text/plain": [
       "<Figure size 432x288 with 1 Axes>"
      ]
     },
     "metadata": {},
     "output_type": "display_data"
    }
   ],
   "source": [
    "plt.grid(True)\n",
    "plt.scatter(temp_f2, gamma2*2)\n",
    "plt.scatter(temp_f2[6:], (gamma2[6:]-1/t12[6:]/2/np.pi)*2)"
   ]
  },
  {
   "cell_type": "code",
   "execution_count": 19,
   "metadata": {},
   "outputs": [
    {
     "data": {
      "image/png": "[encoded data removed]",
      "text/plain": [
       "<Figure size 432x288 with 1 Axes>"
      ]
     },
     "metadata": {},
     "output_type": "display_data"
    }
   ],
   "source": [
    "plt.grid(True)\n",
    "plt.scatter(temp_f, gamma*2, color=\"b\", label=\"unangepasst\")\n",
    "plt.scatter(temp_f, (gamma-1/t1[1::2]/2/np.pi)*2, color=\"r\", label=\"angepasst\")\n",
    "plt.scatter(temp_f2, gamma2*2, color=\"b\")\n",
    "plt.scatter(temp_f2[6:], (gamma2[6:]-1/t12[6:]/2/np.pi)*2, color=\"r\")\n",
    "plt.xlabel(\"Temperature [K]\")\n",
    "plt.ylabel(\"FWHM [Hz]\")\n",
    "plt.legend()\n",
    "fig = plt.gcf()"
   ]
  },
  {
   "cell_type": "code",
   "execution_count": 82,
   "metadata": {
    "collapsed": true
   },
   "outputs": [],
   "source": [
    "fig.savefig(\"/home/jens/Documents/projekte/crn/data/SPEK/t1_angepasst/test2.pdf\", bbox_inches=\"tight\")"
   ]
  },
  {
   "cell_type": "code",
   "execution_count": null,
   "metadata": {
    "collapsed": true
   },
   "outputs": [],
   "source": []
  }
 ],
 "metadata": {
  "kernelspec": {
   "display_name": "Python 3",
   "language": "python",
   "name": "python3"
  },
  "language_info": {
   "codemirror_mode": {
    "name": "ipython",
    "version": 3
   },
   "file_extension": ".py",
   "mimetype": "text/x-python",
   "name": "python",
   "nbconvert_exporter": "python",
   "pygments_lexer": "ipython3",
   "version": "3.6.5"
  }
 },
 "nbformat": 4,
 "nbformat_minor": 2
}
