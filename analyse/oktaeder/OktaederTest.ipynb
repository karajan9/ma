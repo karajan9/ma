{
 "cells": [
  {
   "cell_type": "code",
   "execution_count": null,
   "metadata": {},
   "outputs": [],
   "source": [
    "using Plots; gr()\n",
    "using DataFrames\n",
    "using CSV"
   ]
  },
  {
   "cell_type": "code",
   "execution_count": null,
   "metadata": {
    "scrolled": true
   },
   "outputs": [],
   "source": [
    "basedir = \"/home/jens/Documents/simulation/NMRSimulation/test/okttest/\"\n",
    "deltaq = CSV.read(\"$(basedir)2dspek_tm16.0.deltaq.hist\", types=[Int, Float64, Float64, Float64],  delim = \"\\t\")\n",
    "Plots.plot(deltaq[:min], deltaq[:count])"
   ]
  },
  {
   "cell_type": "code",
   "execution_count": null,
   "metadata": {},
   "outputs": [],
   "source": [
    "eta = CSV.read(\"$(basedir)2dspek_tm16.0.eta.hist\", types=[Int, Float64, Float64, Float64],  delim = \"\\t\")\n",
    "Plots.plot(eta[:min], eta[:count])"
   ]
  },
  {
   "cell_type": "code",
   "execution_count": null,
   "metadata": {},
   "outputs": [],
   "source": [
    "phi = CSV.read(\"$(basedir)2dspek_tm16.0.phi.hist\", types=[Int, Float64, Float64, Float64],  delim = \"\\t\")\n",
    "Plots.plot(phi[:min], phi[:count])"
   ]
  },
  {
   "cell_type": "code",
   "execution_count": null,
   "metadata": {},
   "outputs": [],
   "source": [
    "theta = CSV.read(\"$(basedir)2dspek_tm16.0.theta.hist\", types=[Int, Float64, Float64, Float64],  delim = \"\\t\")\n",
    "Plots.plot(theta[:min], theta[:count])"
   ]
  },
  {
   "cell_type": "code",
   "execution_count": null,
   "metadata": {
    "scrolled": true
   },
   "outputs": [],
   "source": [
    "a = CSV.read(\"$(basedir)r.txt\", datarow = 1, types=[Float64, Float64, Float64],  delim = \",\")\n",
    "b = CSV.read(\"$(basedir)iso.txt\", datarow = 1, types=[Float64, Float64, Float64],  delim = \",\")\n",
    "r = convert(Array{Float64}, a)\n",
    "iso = convert(Array{Float64}, b)\n",
    "r"
   ]
  },
  {
   "cell_type": "code",
   "execution_count": null,
   "metadata": {
    "scrolled": true
   },
   "outputs": [],
   "source": [
    "dists_r = Array{Float64}(size(r)[1] - 1)\n",
    "for i in 2:size(r, 1)\n",
    "    dists_r[i-1] = sqrt(sum((r[i-1,:] - r[i,:]) .^ 2))\n",
    "end\n",
    "dists_iso = Array{Float64}(size(iso)[1] - 1)\n",
    "for i in 2:size(iso, 1)\n",
    "    dists_iso[i-1] = sqrt(sum((iso[i-1,:] - iso[i,:]) .^ 2))\n",
    "end"
   ]
  },
  {
   "cell_type": "code",
   "execution_count": null,
   "metadata": {},
   "outputs": [],
   "source": [
    "println(mean(dists_r))\n",
    "println(mean(dists_iso))"
   ]
  },
  {
   "cell_type": "code",
   "execution_count": null,
   "metadata": {},
   "outputs": [],
   "source": [
    "histogram(dists_iso, fillalpha = 0.7, label = \"Isotrop\")\n",
    "histogram!(dists_r, fillalpha = 0.7, label = \"Oktaeder\")\n",
    "Plots.plot!(;legend = :top, xlabel = \"Distanz\")"
   ]
  },
  {
   "cell_type": "code",
   "execution_count": null,
   "metadata": {},
   "outputs": [],
   "source": [
    "Plots.savefig(\"vlg_iso_okt.pdf\")"
   ]
  },
  {
   "cell_type": "code",
   "execution_count": null,
   "metadata": {},
   "outputs": [],
   "source": []
  }
 ],
 "metadata": {
  "kernelspec": {
   "display_name": "Julia 0.6.2",
   "language": "julia",
   "name": "julia-0.6"
  },
  "language_info": {
   "file_extension": ".jl",
   "mimetype": "application/julia",
   "name": "julia",
   "version": "0.6.2"
  }
 },
 "nbformat": 4,
 "nbformat_minor": 2
}
