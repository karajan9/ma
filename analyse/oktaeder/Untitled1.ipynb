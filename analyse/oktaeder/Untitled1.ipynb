{
 "cells": [
  {
   "cell_type": "code",
   "execution_count": 1,
   "metadata": {},
   "outputs": [],
   "source": [
    "import numpy as np\n",
    "import matplotlib.pyplot as plt\n",
    "import numpy.random as rnd\n",
    "from scipy.spatial.distance import euclidean"
   ]
  },
  {
   "cell_type": "code",
   "execution_count": 2,
   "metadata": {},
   "outputs": [],
   "source": [
    "def gen_okt(r=1.0, sigma=0.01):\n",
    "    pos = sigma * rnd.randn(6, 3)\n",
    "    pos[0, 0] += r\n",
    "    pos[1, 0] -= r\n",
    "    pos[2, 1] += r\n",
    "    pos[3, 1] -= r\n",
    "    pos[4, 2] += r\n",
    "    pos[5, 2] -= r\n",
    "    return pos\n",
    "\n",
    "\n",
    "def calc_efg(el):\n",
    "    efg = np.zeros([3, 3], dtype=float)\n",
    "    for k in el:\n",
    "        r = np.linalg.norm(k)\n",
    "        for i in range(3):\n",
    "            for j in range(3):\n",
    "                efg[i, j] += -(3 * k[i] * k[j]) / r**5\n",
    "                if i == j:\n",
    "                    efg[i, j] += 1 / r**3\n",
    "    return efg\n",
    "\n",
    "\n",
    "def get_params(efg):\n",
    "    ev, evec = np.linalg.eig(efg)\n",
    "    sort_index = np.argsort(np.abs(ev))\n",
    "    V_xx = ev[sort_index[0]]\n",
    "    V_yy = ev[sort_index[1]]\n",
    "    V_zz = ev[sort_index[2]]\n",
    "    eta = (V_xx - V_yy) / V_zz\n",
    "    dirs = evec[sort_index[2]] / np.linalg.norm(evec[sort_index[2]])\n",
    "    return V_zz, eta, dirs\n",
    "\n",
    "\n",
    "def run(fun, n=1000000, r=1.0, sigma=0.01):\n",
    "    Vzz = np.empty(n, dtype=float)\n",
    "    eta = np.empty(n, dtype=float)\n",
    "    dirs = np.empty((n, 3), dtype=float)\n",
    "    for i in range(n):\n",
    "        pos = fun(r=r, sigma=sigma)\n",
    "        efg = calc_efg(pos)\n",
    "        Vzz[i], eta[i], dirs[i] = get_params(efg)\n",
    "    \n",
    "    dis = np.empty(n-1, dtype=float)\n",
    "    for i in range(n-1):\n",
    "        dis[i] = euclidean(dirs[i], dirs[i+1])\n",
    "    \n",
    "    return Vzz, eta, dis"
   ]
  },
  {
   "cell_type": "code",
   "execution_count": 28,
   "metadata": {},
   "outputs": [
    {
     "name": "stdout",
     "output_type": "stream",
     "text": [
      "CPU times: user 2min 26s, sys: 456 ms, total: 2min 27s\n",
      "Wall time: 2min 27s\n"
     ]
    }
   ],
   "source": [
    "%time Vzz_o, eta_o, dis_o = run(gen_okt)"
   ]
  },
  {
   "cell_type": "code",
   "execution_count": 13,
   "metadata": {},
   "outputs": [
    {
     "data": {
      "text/plain": [
       "[[1, 0, 0], [0, 2, 0], [-1, 0, 0], [0, -2, 0], [0, 0, 3], [0, 0, -3]]"
      ]
     },
     "execution_count": 13,
     "metadata": {},
     "output_type": "execute_result"
    }
   ],
   "source": [
    "e1 = [1, 0, 0]\n",
    "e2 = [0, 2, 0]\n",
    "e3 = [-1, 0, 0]\n",
    "e4 = [0, -2, 0]\n",
    "e5 = [0, 0, 3]\n",
    "e6 = [0, 0, -3]\n",
    "el = [e1, e2, e3, e4, e5, e6]\n",
    "el"
   ]
  },
  {
   "cell_type": "code",
   "execution_count": 14,
   "metadata": {},
   "outputs": [
    {
     "name": "stdout",
     "output_type": "stream",
     "text": [
      "[[-3.67592593  0.          0.        ]\n",
      " [ 0.          1.57407407  0.        ]\n",
      " [ 0.          0.          2.10185185]]\n",
      "(-3.6759259259259256, 0.14357682619647366, array([1., 0., 0.]))\n"
     ]
    }
   ],
   "source": [
    "efg = calc_efg(el)\n",
    "print(efg)\n",
    "print(get_params(efg))"
   ]
  },
  {
   "cell_type": "code",
   "execution_count": null,
   "metadata": {},
   "outputs": [],
   "source": []
  }
 ],
 "metadata": {
  "kernelspec": {
   "display_name": "Python 3",
   "language": "python",
   "name": "python3"
  },
  "language_info": {
   "codemirror_mode": {
    "name": "ipython",
    "version": 3
   },
   "file_extension": ".py",
   "mimetype": "text/x-python",
   "name": "python",
   "nbconvert_exporter": "python",
   "pygments_lexer": "ipython3",
   "version": "3.6.4"
  }
 },
 "nbformat": 4,
 "nbformat_minor": 2
}
