{
 "cells": [
  {
   "cell_type": "code",
   "execution_count": null,
   "metadata": {},
   "outputs": [],
   "source": [
    "using MXNet"
   ]
  },
  {
   "cell_type": "code",
   "execution_count": null,
   "metadata": {},
   "outputs": [],
   "source": [
    "data = mx.Variable(:data)"
   ]
  },
  {
   "cell_type": "code",
   "execution_count": null,
   "metadata": {},
   "outputs": [],
   "source": [
    "fc1  = mx.FullyConnected(data, name=:fc1, num_hidden=128)\n",
    "act1 = mx.Activation(fc1, name=:relu1, act_type=:relu)\n",
    "fc2  = mx.FullyConnected(act1, name=:fc2, num_hidden=64)\n",
    "act2 = mx.Activation(fc2, name=:relu2, act_type=:relu)\n",
    "fc3  = mx.FullyConnected(act2, name=:fc3, num_hidden=10)"
   ]
  },
  {
   "cell_type": "code",
   "execution_count": null,
   "metadata": {},
   "outputs": [],
   "source": [
    "mlp  = mx.SoftmaxOutput(fc2, name=:softmax)"
   ]
  },
  {
   "cell_type": "code",
   "execution_count": null,
   "metadata": {},
   "outputs": [],
   "source": [
    "mlp = @mx.chain mx.Variable(:data)             =>\n",
    "  mx.FullyConnected(name=:fc1, num_hidden=128) =>\n",
    "  mx.Activation(name=:relu1, act_type=:relu)   =>\n",
    "  mx.FullyConnected(name=:fc2, num_hidden=64)  =>\n",
    "  mx.Activation(name=:relu2, act_type=:relu)   =>\n",
    "  mx.FullyConnected(name=:fc3, num_hidden=10)  =>\n",
    "  mx.SoftmaxOutput(name=:softmax)"
   ]
  },
  {
   "cell_type": "code",
   "execution_count": null,
   "metadata": {},
   "outputs": [],
   "source": [
    "batch_size = 100\n",
    "include(\"/home/jens/.julia/v0.6/MXNet/examples/mnist/mnist-data.jl\")\n",
    "train_provider, eval_provider = get_mnist_providers(batch_size; flat = false)"
   ]
  },
  {
   "cell_type": "code",
   "execution_count": null,
   "metadata": {},
   "outputs": [],
   "source": [
    "model = mx.FeedForward(mlp, context=mx.cpu())"
   ]
  },
  {
   "cell_type": "code",
   "execution_count": null,
   "metadata": {},
   "outputs": [],
   "source": [
    "optimizer = mx.ADAM()"
   ]
  },
  {
   "cell_type": "code",
   "execution_count": null,
   "metadata": {
    "scrolled": true
   },
   "outputs": [],
   "source": [
    "@time mx.fit(model, optimizer, train_provider, n_epoch=10, verbosity = 0)"
   ]
  },
  {
   "cell_type": "code",
   "execution_count": null,
   "metadata": {},
   "outputs": [],
   "source": [
    "# first conv\n",
    "conv1 = @mx.chain mx.Convolution(data, kernel=(5,5), num_filter=20)  =>\n",
    "                  mx.Activation(act_type=:tanh) =>\n",
    "                  mx.Pooling(pool_type=:max, kernel=(2,2), stride=(2,2))\n",
    "\n",
    "# second conv\n",
    "conv2 = @mx.chain mx.Convolution(conv1, kernel=(5,5), num_filter=50) =>\n",
    "                  mx.Activation(act_type=:tanh) =>\n",
    "                  mx.Pooling(pool_type=:max, kernel=(2,2), stride=(2,2))"
   ]
  },
  {
   "cell_type": "code",
   "execution_count": null,
   "metadata": {},
   "outputs": [],
   "source": [
    "# first fully-connected\n",
    "fc1   = @mx.chain mx.Flatten(conv2) =>\n",
    "                  mx.FullyConnected(num_hidden=500) =>\n",
    "                  mx.Activation(act_type=:tanh)\n",
    "\n",
    "# second fully-connected\n",
    "fc2   = mx.FullyConnected(fc1, num_hidden=10)\n",
    "\n",
    "# softmax loss\n",
    "lenet = mx.SoftmaxOutput(fc2, name=:softmax)"
   ]
  },
  {
   "cell_type": "code",
   "execution_count": null,
   "metadata": {},
   "outputs": [],
   "source": [
    "# fit model\n",
    "model = mx.FeedForward(lenet, context=mx.cpu())\n",
    "\n",
    "# optimizer\n",
    "optimizer = mx.ADAM()"
   ]
  },
  {
   "cell_type": "code",
   "execution_count": null,
   "metadata": {},
   "outputs": [],
   "source": [
    "# fit parameters\n",
    "@time mx.fit(model, optimizer, train_provider, n_epoch=2, eval_data=eval_provider, verbosity = 2)"
   ]
  },
  {
   "cell_type": "code",
   "execution_count": null,
   "metadata": {},
   "outputs": [],
   "source": []
  }
 ],
 "metadata": {
  "kernelspec": {
   "display_name": "Julia 0.6.2",
   "language": "julia",
   "name": "julia-0.6"
  },
  "language_info": {
   "file_extension": ".jl",
   "mimetype": "application/julia",
   "name": "julia",
   "version": "0.6.2"
  }
 },
 "nbformat": 4,
 "nbformat_minor": 2
}
