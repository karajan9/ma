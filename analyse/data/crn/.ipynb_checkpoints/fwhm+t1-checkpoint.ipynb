{
 "cells": [
  {
   "cell_type": "code",
   "execution_count": 33,
   "metadata": {
    "collapsed": true
   },
   "outputs": [],
   "source": [
    "import numpy as np\n",
    "import matplotlib.pyplot as plt\n",
    "%matplotlib inline"
   ]
  },
  {
   "cell_type": "code",
   "execution_count": 11,
   "metadata": {
    "collapsed": true
   },
   "outputs": [],
   "source": [
    "fwhm_data = np.loadtxt(\"/home/jens/Documents/projekte/crn/data/SPEK/spek_342K_380K.data\")\n",
    "t1_data = np.loadtxt(\"/home/jens/Documents/projekte/crn/data/T1/t1_342K_380K.data\")\n",
    "temp_f = fwhm_data[:,1]\n",
    "gamma = fwhm_data[:,5]\n",
    "temp_t1 = t1_data[:,1]\n",
    "t1 = t1_data[:,3]"
   ]
  },
  {
   "cell_type": "code",
   "execution_count": 27,
   "metadata": {},
   "outputs": [
    {
     "data": {
      "text/plain": [
       "array([ 377.56,  373.73,  370.85,  367.97,  366.04,  364.12,  362.19,\n",
       "        360.25,  358.32,  355.46,  352.59,  349.72,  346.85,  343.99,\n",
       "        349.64,  346.85,  343.98,  341.12])"
      ]
     },
     "execution_count": 27,
     "metadata": {},
     "output_type": "execute_result"
    }
   ],
   "source": [
    "temp_f"
   ]
  },
  {
   "cell_type": "code",
   "execution_count": 28,
   "metadata": {},
   "outputs": [
    {
     "data": {
      "text/plain": [
       "array([ 377.56,  373.7 ,  370.82,  367.94,  366.02,  364.11,  362.17,\n",
       "        360.24,  358.31,  355.43,  352.57,  349.7 ,  346.82,  343.95,\n",
       "        349.46,  346.92,  344.09,  341.22])"
      ]
     },
     "execution_count": 28,
     "metadata": {},
     "output_type": "execute_result"
    }
   ],
   "source": [
    "temp_t1[1::2]"
   ]
  },
  {
   "cell_type": "code",
   "execution_count": 29,
   "metadata": {},
   "outputs": [
    {
     "data": {
      "text/plain": [
       "array([  3.62055931e-05,   4.57386695e-05,   5.53099474e-05,\n",
       "         6.87356953e-05,   8.03768109e-05,   8.28968616e-05,\n",
       "         1.05118419e-04,   1.21537713e-04,   1.47880063e-04,\n",
       "         2.02648547e-04,   2.67778739e-04,   3.88188493e-04,\n",
       "         5.51794698e-04,   7.89837964e-04,   3.92575700e-04,\n",
       "         5.62798827e-04,   8.53399118e-04,   1.21999925e-03])"
      ]
     },
     "execution_count": 29,
     "metadata": {},
     "output_type": "execute_result"
    }
   ],
   "source": [
    "t1[1::2]"
   ]
  },
  {
   "cell_type": "code",
   "execution_count": 34,
   "metadata": {},
   "outputs": [
    {
     "data": {
      "text/plain": [
       "<matplotlib.collections.PathCollection at 0x7f0007de0160>"
      ]
     },
     "execution_count": 34,
     "metadata": {},
     "output_type": "execute_result"
    },
    {
     "data": {
      "image/png": "[encoded data removed]",
      "text/plain": [
       "<matplotlib.figure.Figure at 0x7f0007eaccf8>"
      ]
     },
     "metadata": {},
     "output_type": "display_data"
    }
   ],
   "source": [
    "plt.grid(True)\n",
    "plt.yscale(\"log\")\n",
    "plt.scatter(temp_t1[1::2], 1/t1[1::2])"
   ]
  },
  {
   "cell_type": "code",
   "execution_count": 38,
   "metadata": {},
   "outputs": [
    {
     "data": {
      "text/plain": [
       "<matplotlib.collections.PathCollection at 0x7f0007e52b38>"
      ]
     },
     "execution_count": 38,
     "metadata": {},
     "output_type": "execute_result"
    },
    {
     "data": {
      "image/png": "[encoded data removed]",
      "text/plain": [
       "<matplotlib.figure.Figure at 0x7f0007f02a20>"
      ]
     },
     "metadata": {},
     "output_type": "display_data"
    }
   ],
   "source": [
    "plt.grid(True)\n",
    "plt.scatter(temp_f, gamma*2)\n",
    "plt.scatter(temp_f, (gamma-1/t1[1::2]/2/np.pi)*2)"
   ]
  },
  {
   "cell_type": "code",
   "execution_count": 40,
   "metadata": {
    "collapsed": true
   },
   "outputs": [],
   "source": [
    "fwhm_data2 = np.loadtxt(\"/home/jens/Documents/projekte/crn/data/SPEK/spek_360K_440K.data\")\n",
    "t1_data2 = np.loadtxt(\"/home/jens/Documents/projekte/crn/data/T1/t1_360K_440K_170807.data\")\n",
    "temp_f2 = fwhm_data2[:,1]\n",
    "gamma2 = fwhm_data2[:,5]\n",
    "temp_t12 = t1_data2[:,1]\n",
    "t12 = t1_data2[:,3]"
   ]
  },
  {
   "cell_type": "code",
   "execution_count": 41,
   "metadata": {},
   "outputs": [
    {
     "data": {
      "text/plain": [
       "array([ 435.43,  430.9 ,  426.15,  421.36,  416.51,  411.7 ,  406.88,\n",
       "        402.04,  397.23,  392.48,  387.69,  382.9 ,  378.18,  373.27,\n",
       "        368.48,  363.66,  358.81])"
      ]
     },
     "execution_count": 41,
     "metadata": {},
     "output_type": "execute_result"
    }
   ],
   "source": [
    "temp_f2"
   ]
  },
  {
   "cell_type": "code",
   "execution_count": 42,
   "metadata": {},
   "outputs": [
    {
     "data": {
      "text/plain": [
       "array([ 434.63,  430.28,  425.53,  420.75,  415.92,  411.14,  401.48,\n",
       "        396.76,  392.  ,  387.23,  382.43,  377.75,  377.49,  372.86,\n",
       "        368.07,  363.32,  358.47])"
      ]
     },
     "execution_count": 42,
     "metadata": {},
     "output_type": "execute_result"
    }
   ],
   "source": [
    "temp_t12"
   ]
  },
  {
   "cell_type": "code",
   "execution_count": 48,
   "metadata": {},
   "outputs": [
    {
     "data": {
      "text/plain": [
       "<matplotlib.collections.PathCollection at 0x7f00076c34e0>"
      ]
     },
     "execution_count": 48,
     "metadata": {},
     "output_type": "execute_result"
    },
    {
     "data": {
      "image/png": "[encoded data removed]",
      "text/plain": [
       "<matplotlib.figure.Figure at 0x7f0007a62b00>"
      ]
     },
     "metadata": {},
     "output_type": "display_data"
    }
   ],
   "source": [
    "plt.grid(True)\n",
    "plt.scatter(temp_f2, gamma2 * 2)"
   ]
  },
  {
   "cell_type": "code",
   "execution_count": 65,
   "metadata": {},
   "outputs": [
    {
     "name": "stderr",
     "output_type": "stream",
     "text": [
      "/home/jens/.local/anaconda/lib/python3.6/site-packages/ipykernel_launcher.py:4: RuntimeWarning: divide by zero encountered in true_divide\n",
      "  after removing the cwd from sys.path.\n"
     ]
    },
    {
     "data": {
      "text/plain": [
       "<matplotlib.collections.PathCollection at 0x7f0007919438>"
      ]
     },
     "execution_count": 65,
     "metadata": {},
     "output_type": "execute_result"
    },
    {
     "data": {
      "image/png": "[encoded data removed]",
      "text/plain": [
       "<matplotlib.figure.Figure at 0x7f0006fc8a58>"
      ]
     },
     "metadata": {},
     "output_type": "display_data"
    }
   ],
   "source": [
    "plt.grid(True)\n",
    "a = np.ma.array(t12, mask=True)\n",
    "a[3] = False\n",
    "plt.scatter(temp_f2[a.mask], 1/t12[a.mask])"
   ]
  },
  {
   "cell_type": "code",
   "execution_count": 62,
   "metadata": {},
   "outputs": [
    {
     "data": {
      "text/plain": [
       "array([ True,  True,  True,  True, False,  True,  True,  True,  True,\n",
       "        True,  True,  True,  True,  True,  True,  True,  True], dtype=bool)"
      ]
     },
     "execution_count": 62,
     "metadata": {},
     "output_type": "execute_result"
    }
   ],
   "source": [
    "a.mask"
   ]
  },
  {
   "cell_type": "code",
   "execution_count": 53,
   "metadata": {},
   "outputs": [
    {
     "data": {
      "text/plain": [
       "<matplotlib.collections.PathCollection at 0x7f00073951d0>"
      ]
     },
     "execution_count": 53,
     "metadata": {},
     "output_type": "execute_result"
    },
    {
     "data": {
      "image/png": "[encoded data removed]",
      "text/plain": [
       "<matplotlib.figure.Figure at 0x7f000741d908>"
      ]
     },
     "metadata": {},
     "output_type": "display_data"
    }
   ],
   "source": [
    "plt.grid(True)\n",
    "plt.scatter(temp_f2[4:], 1/t12[4:])"
   ]
  },
  {
   "cell_type": "code",
   "execution_count": 70,
   "metadata": {},
   "outputs": [
    {
     "data": {
      "text/plain": [
       "<matplotlib.collections.PathCollection at 0x7f0006df15f8>"
      ]
     },
     "execution_count": 70,
     "metadata": {},
     "output_type": "execute_result"
    },
    {
     "data": {
      "image/png": "[encoded data removed]",
      "text/plain": [
       "<matplotlib.figure.Figure at 0x7f0006e562e8>"
      ]
     },
     "metadata": {},
     "output_type": "display_data"
    }
   ],
   "source": [
    "plt.grid(True)\n",
    "plt.scatter(temp_f2, gamma2*2)\n",
    "plt.scatter(temp_f2[6:], (gamma2[6:]-1/t12[6:]/2/np.pi)*2)"
   ]
  },
  {
   "cell_type": "code",
   "execution_count": 80,
   "metadata": {},
   "outputs": [
    {
     "data": {
      "image/png": "[encoded data removed]",
      "text/plain": [
       "<matplotlib.figure.Figure at 0x7f0006703fd0>"
      ]
     },
     "metadata": {},
     "output_type": "display_data"
    }
   ],
   "source": [
    "plt.grid(True)\n",
    "plt.scatter(temp_f, gamma*2, color=\"b\", label=\"unangepasst\")\n",
    "plt.scatter(temp_f, (gamma-1/t1[1::2]/2/np.pi)*2, color=\"r\", label=\"angepasst\")\n",
    "plt.scatter(temp_f2, gamma2*2, color=\"b\")\n",
    "plt.scatter(temp_f2[6:], (gamma2[6:]-1/t12[6:]/2/np.pi)*2, color=\"r\")\n",
    "plt.xlabel(\"Temperature [K]\")\n",
    "plt.ylabel(\"FWHM [Hz]\")\n",
    "plt.legend()\n",
    "fig = plt.gcf()"
   ]
  },
  {
   "cell_type": "code",
   "execution_count": 82,
   "metadata": {
    "collapsed": true
   },
   "outputs": [],
   "source": [
    "fig.savefig(\"/home/jens/Documents/projekte/crn/data/SPEK/t1_angepasst/test2.pdf\", bbox_inches=\"tight\")"
   ]
  },
  {
   "cell_type": "code",
   "execution_count": null,
   "metadata": {
    "collapsed": true
   },
   "outputs": [],
   "source": []
  }
 ],
 "metadata": {
  "kernelspec": {
   "display_name": "Python 3",
   "language": "python",
   "name": "python3"
  },
  "language_info": {
   "codemirror_mode": {
    "name": "ipython",
    "version": 3
   },
   "file_extension": ".py",
   "mimetype": "text/x-python",
   "name": "python",
   "nbconvert_exporter": "python",
   "pygments_lexer": "ipython3",
   "version": "3.6.1"
  }
 },
 "nbformat": 4,
 "nbformat_minor": 2
}
