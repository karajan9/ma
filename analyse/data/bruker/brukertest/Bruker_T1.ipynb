{
 "cells": [
  {
   "cell_type": "code",
   "execution_count": 1,
   "metadata": {},
   "outputs": [
    {
     "name": "stdout",
     "output_type": "stream",
     "text": [
      "['', '/home/jens/Documents/NMRAuswertung', '/home/jens/.local/anaconda/bin', '/home/jens/bin', '/home/jens/.local/bin', '/usr/local/sbin', '/usr/local/bin', '/usr/sbin', '/usr/bin', '/sbin', '/bin', '/usr/games', '/usr/local/games', '/snap/bin', '/home/jens/.local/anaconda/lib/python36.zip', '/home/jens/.local/anaconda/lib/python3.6', '/home/jens/.local/anaconda/lib/python3.6/lib-dynload', '/home/jens/.local/anaconda/lib/python3.6/site-packages', '/home/jens/.local/anaconda/lib/python3.6/site-packages/IPython/extensions', '/home/jens/.ipython', '/home/jens/Documents/NMRAuswertung']\n"
     ]
    }
   ],
   "source": [
    "import numpy as np\n",
    "import matplotlib.pyplot as plt\n",
    "\n",
    "import sys\n",
    "sys.path.append(\"/home/jens/Documents/NMRAuswertung\")\n",
    "print(sys.path)\n",
    "from nmr_lib import *\n",
    "\n",
    "\n",
    "%matplotlib inline"
   ]
  },
  {
   "cell_type": "code",
   "execution_count": 2,
   "metadata": {},
   "outputs": [],
   "source": [
    "dirnamet1 = [\n",
    "    \"12\", \"14\", \"17\", \"20\", \"23\", \"25\", \"28\", \"30\", \"33\", \"35\", \"38\", \"40\",\n",
    "    \"43\", \"46\", \"49\", \"56\"\n",
    "]\n",
    "tempt1 = [\n",
    "    380.0, 390.0, 375.0, 385.0, 370.0, 365.0, 360.0, 355.0, 350.0, 345.0,\n",
    "    340.0, 330.0, 335.0, 320.0, 310.0, 340.0\n",
    "]\n",
    "\n",
    "trigger_time_t1 = 4e-6\n",
    "t1phase = 12 * np.pi / 180\n",
    "\n",
    "#td_1 und td_2 werden mittlerweile automatisch ausgelesen\n",
    "dw = 1e-6  # Dwelltime, in Topspin als DW bezeichnet, Zeit zwischen zwei Punkten\n",
    "grpdly = 68  # wie viel ist vor dem eigentlich zu messenden Signal\n",
    "# (meist durch Variable grpdly gegeben, welche bei allen euren\n",
    "# Messungen 68 war)\n",
    "\n",
    "maxtplot = 150e-6\n",
    "\n",
    "dw = dw * 2  # Bruker verdoppelt immer nocheinmal die dwell time"
   ]
  },
  {
   "cell_type": "code",
   "execution_count": 3,
   "metadata": {},
   "outputs": [],
   "source": [
    "folder = \"12\"\n",
    "trigger_time = trigger_time_t1\n",
    "phase = t1phase\n",
    "\n",
    "\n",
    "def extract_bruker_generic(folder, trigger_time, phase):\n",
    "    effgrpdly = int(grpdly + trigger_time / dw)\n",
    "    if effgrpdly < 0:\n",
    "        effgrpdly = 0\n",
    "    times_2 = np.loadtxt(\"../T1/%s/vdlist\" % (folder))\n",
    "    f = open(\"../T1/%s/ser\" % (folder), \"rb\")\n",
    "    data = np.frombuffer(f.read(), dtype=\"<i4\")\n",
    "    td_2 = len(times_2)\n",
    "    td_1 = int(len(data) / td_2)\n",
    "    dshape = (td_2, int(td_1 / 2), 2)\n",
    "    data.shape = dshape\n",
    "    cropped = np.zeros(dshape)\n",
    "    cropped[:, 0:int(td_1 / 2) - effgrpdly, :] = data[:, effgrpdly:, :]\n",
    "    signal = cropped[:, :, 0] + 1j * cropped[:, :, 1]\n",
    "    times_1 = dw * np.arange(0, int(td_1 / 2))\n",
    "\n",
    "    phase_sug = np.angle(\n",
    "        signal[0:5, 0:5].mean()\n",
    "    )  #die gewünschte Phase kann ganz gut abgeschätzt werden indem der Winkel in der komplexen Ebene für den ersten Wert berechnet wird.\n",
    "    print(\n",
    "        \"Schaetzung der Phase von Ordner %s: %.0f (%.2f rad) verwendet: %.0f\" %\n",
    "        (folder, phase_sug * 180 / np.pi, phase_sug, phase * 180 / np.pi))\n",
    "    #Phasenkorrektur anwenden:\n",
    "    signal = signal * np.exp(-1j * phase)\n",
    "\n",
    "    fig = plt.figure(figsize=(32 / 2.54, 18 / 2.54))\n",
    "    ax = fig.add_subplot(1, 1, 1)\n",
    "\n",
    "    for i in range(0, len(signal)):\n",
    "        ax.plot(times_1[0:int(maxtplot / dw)],\n",
    "                np.real(signal[i, 0:int(maxtplot / dw)]))\n",
    "        ax.plot(times_1[0:int(maxtplot / dw)],\n",
    "                np.imag(signal[i, 0:int(maxtplot / dw)]))\n",
    "\n",
    "    fig.savefig(\"auswertung/%s_signal.pdf\" % (folder))\n",
    "    plt.close(fig)\n",
    "\n",
    "    #echos ausrechnen:\n",
    "    echos = signal[:, 0:10].mean(axis=1)\n",
    "    echo_err = np.real(signal[:, -513:-1]).std(axis=1) + 1j * np.real(\n",
    "        signal[:, -513:-1]).std(axis=1)\n",
    "\n",
    "    mask = echo_err != 0.0\n",
    "\n",
    "    times_2 = times_2[mask]\n",
    "    echos = echos[mask]\n",
    "    echo_err = echo_err[mask]\n",
    "\n",
    "    return times_1, signal, times_2, echos, echo_err"
   ]
  },
  {
   "cell_type": "code",
   "execution_count": 4,
   "metadata": {},
   "outputs": [
    {
     "name": "stdout",
     "output_type": "stream",
     "text": [
      "Schaetzung der Phase von Ordner 12: 12 (0.21 rad) verwendet: 12\n"
     ]
    }
   ],
   "source": [
    "times_1, signal, times_2, echos, echo_err = extract_bruker_generic(\n",
    "        folder, trigger_time, phase)"
   ]
  },
  {
   "cell_type": "code",
   "execution_count": 5,
   "metadata": {},
   "outputs": [
    {
     "data": {
      "text/plain": [
       "array([  0.00000000e+00,   2.00000000e-06,   4.00000000e-06, ...,\n",
       "         8.18600000e-03,   8.18800000e-03,   8.19000000e-03])"
      ]
     },
     "execution_count": 5,
     "metadata": {},
     "output_type": "execute_result"
    }
   ],
   "source": [
    "times_1"
   ]
  },
  {
   "cell_type": "code",
   "execution_count": 6,
   "metadata": {},
   "outputs": [
    {
     "data": {
      "text/plain": [
       "array([  1.00000000e-05,   1.60000000e-05,   2.60000000e-05,\n",
       "         4.30000000e-05,   7.00000000e-05,   1.13000000e-04,\n",
       "         1.83000000e-04,   2.98000000e-04,   4.83000000e-04,\n",
       "         7.85000000e-04,   1.30000000e-05,   2.10000000e-05,\n",
       "         3.40000000e-05,   5.50000000e-05,   8.90000000e-05,\n",
       "         1.44000000e-04,   2.34000000e-04,   3.79000000e-04,\n",
       "         6.16000000e-04,   1.00000000e-03])"
      ]
     },
     "execution_count": 6,
     "metadata": {},
     "output_type": "execute_result"
    }
   ],
   "source": [
    "times_2"
   ]
  },
  {
   "cell_type": "code",
   "execution_count": 7,
   "metadata": {},
   "outputs": [
    {
     "data": {
      "text/plain": [
       "array([ -6244.87359077,   -187.33708553,   7167.83505535,  17887.63970044,\n",
       "        27530.59503486,  36667.43267893,  41362.97314017,  44320.811982  ,\n",
       "        44674.90028465,  44938.36232713,  -3247.54998427,   3911.82278882,\n",
       "        12551.86690154,  22520.11312107,  32280.71375303,  38720.46364553,\n",
       "        43097.24615226,  44131.3268552 ,  44543.30374749,  44515.4613518 ])"
      ]
     },
     "execution_count": 7,
     "metadata": {},
     "output_type": "execute_result"
    }
   ],
   "source": [
    "echos.real"
   ]
  },
  {
   "cell_type": "code",
   "execution_count": 8,
   "metadata": {},
   "outputs": [
    {
     "data": {
      "text/plain": [
       "<matplotlib.collections.PathCollection at 0x7f91981e1ac8>"
      ]
     },
     "execution_count": 8,
     "metadata": {},
     "output_type": "execute_result"
    },
    {
     "data": {
      "image/png": "[encoded data removed]",
      "text/plain": [
       "<matplotlib.figure.Figure at 0x7f9198421710>"
      ]
     },
     "metadata": {},
     "output_type": "display_data"
    }
   ],
   "source": [
    "plt.xscale(\"log\")\n",
    "plt.scatter(times_2, echos.real)\n",
    "plt.scatter(times_2, echos.imag)"
   ]
  },
  {
   "cell_type": "code",
   "execution_count": 9,
   "metadata": {},
   "outputs": [],
   "source": [
    "phase, cmplx = phase_fit(echos, 12)"
   ]
  },
  {
   "cell_type": "code",
   "execution_count": 10,
   "metadata": {},
   "outputs": [
    {
     "data": {
      "text/plain": [
       "-27.211292572070725"
      ]
     },
     "execution_count": 10,
     "metadata": {},
     "output_type": "execute_result"
    }
   ],
   "source": [
    "phase"
   ]
  },
  {
   "cell_type": "code",
   "execution_count": 11,
   "metadata": {},
   "outputs": [
    {
     "data": {
      "text/plain": [
       "<matplotlib.collections.PathCollection at 0x7f919816ca90>"
      ]
     },
     "execution_count": 11,
     "metadata": {},
     "output_type": "execute_result"
    },
    {
     "data": {
      "image/png": "[encoded data removed]",
      "text/plain": [
       "<matplotlib.figure.Figure at 0x7f91984ef748>"
      ]
     },
     "metadata": {},
     "output_type": "display_data"
    }
   ],
   "source": [
    "plt.xscale(\"log\")\n",
    "plt.scatter(times_2, cmplx.real)\n",
    "plt.scatter(times_2, cmplx.imag)"
   ]
  },
  {
   "cell_type": "code",
   "execution_count": null,
   "metadata": {},
   "outputs": [],
   "source": []
  }
 ],
 "metadata": {
  "kernelspec": {
   "display_name": "Python 3",
   "language": "python",
   "name": "python3"
  },
  "language_info": {
   "codemirror_mode": {
    "name": "ipython",
    "version": 3
   },
   "file_extension": ".py",
   "mimetype": "text/x-python",
   "name": "python",
   "nbconvert_exporter": "python",
   "pygments_lexer": "ipython3",
   "version": "3.6.3"
  }
 },
 "nbformat": 4,
 "nbformat_minor": 2
}
